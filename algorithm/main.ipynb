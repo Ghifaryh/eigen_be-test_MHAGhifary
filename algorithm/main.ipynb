{
 "cells": [
  {
   "cell_type": "markdown",
   "metadata": {},
   "source": [
    "1. Terdapat string \"NEGIE1\", silahkan reverse alphabet nya dengan angka tetap diakhir kata Hasil = \"EIGEN1\""
   ]
  },
  {
   "cell_type": "code",
   "execution_count": 15,
   "metadata": {},
   "outputs": [
    {
     "name": "stdout",
     "output_type": "stream",
     "text": [
      "NEGIE1\n"
     ]
    }
   ],
   "source": [
    "def reverse_alphabet(string):\n",
    "  alphabet = \"abcdefghijklmnopqrstuvwxyz\"\n",
    "  reversed_alphabet = alphabet[::-1]\n",
    "  translation_table = str.maketrans(alphabet, reversed_alphabet)\n",
    "  return string.translate(translation_table)\n",
    "\n",
    "# Menjalankan fungsi\n",
    "result = reverse_alphabet(\"NEGIE1\")\n",
    "\n",
    "# Mencetak hasil\n",
    "print(result)"
   ]
  },
  {
   "cell_type": "markdown",
   "metadata": {},
   "source": [
    "2. Diberikan contoh sebuah kalimat, silahkan cari kata terpanjang dari kalimat tersebut, jika ada kata dengan panjang yang sama silahkan ambil salah satu"
   ]
  },
  {
   "cell_type": "code",
   "execution_count": null,
   "metadata": {},
   "outputs": [],
   "source": []
  },
  {
   "cell_type": "markdown",
   "metadata": {},
   "source": [
    "3. Terdapat dua buah array yaitu array INPUT dan array QUERY, silahkan tentukan berapa kali kata dalam QUERY terdapat pada array INPUT"
   ]
  },
  {
   "cell_type": "code",
   "execution_count": null,
   "metadata": {},
   "outputs": [],
   "source": []
  },
  {
   "cell_type": "markdown",
   "metadata": {},
   "source": [
    "4. Silahkan cari hasil dari pengurangan dari jumlah diagonal sebuah matrik NxN"
   ]
  },
  {
   "cell_type": "code",
   "execution_count": null,
   "metadata": {},
   "outputs": [],
   "source": []
  }
 ],
 "metadata": {
  "kernelspec": {
   "display_name": "Python 3",
   "language": "python",
   "name": "python3"
  },
  "language_info": {
   "codemirror_mode": {
    "name": "ipython",
    "version": 3
   },
   "file_extension": ".py",
   "mimetype": "text/x-python",
   "name": "python",
   "nbconvert_exporter": "python",
   "pygments_lexer": "ipython3",
   "version": "3.10.6"
  }
 },
 "nbformat": 4,
 "nbformat_minor": 2
}
