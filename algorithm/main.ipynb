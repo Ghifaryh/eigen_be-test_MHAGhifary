{
 "cells": [
  {
   "cell_type": "markdown",
   "metadata": {},
   "source": [
    "1. Terdapat string \"NEGIE1\", silahkan reverse alphabet nya dengan angka tetap diakhir kata Hasil = \"EIGEN1\""
   ]
  },
  {
   "cell_type": "code",
   "execution_count": 18,
   "metadata": {},
   "outputs": [
    {
     "name": "stdout",
     "output_type": "stream",
     "text": [
      "EIGEN1\n"
     ]
    }
   ],
   "source": [
    "def reverse_alphabet(s):\n",
    "    letters = [char for char in s if char.isalpha()]\n",
    "    digits = [char for char in s if char.isdigit()]\n",
    "\n",
    "    reversed_letters = ''.join(letters[::-1])\n",
    "    result = reversed_letters + ''.join(digits)\n",
    "\n",
    "    return result\n",
    "\n",
    "s = \"NEGIE1\"\n",
    "hasil = reverse_alphabet(s)\n",
    "print(hasil)"
   ]
  },
  {
   "cell_type": "markdown",
   "metadata": {},
   "source": [
    "2. Diberikan contoh sebuah kalimat, silahkan cari kata terpanjang dari kalimat tersebut, jika ada kata dengan panjang yang sama silahkan ambil salah satu"
   ]
  },
  {
   "cell_type": "code",
   "execution_count": 23,
   "metadata": {},
   "outputs": [
    {
     "name": "stdout",
     "output_type": "stream",
     "text": [
      "mengerjakan: 11 character\n"
     ]
    }
   ],
   "source": [
    "def longest_word(sentence):\n",
    "    words = sentence.split()\n",
    "\n",
    "    longest = \"\"\n",
    "    max_length = 0\n",
    "\n",
    "    for word in words:\n",
    "        if len(word) > max_length:\n",
    "            longest = word\n",
    "            max_length = len(word)\n",
    "\n",
    "    return longest, max_length\n",
    "\n",
    "sentence = \"Saya sangat senang mengerjakan soal algoritma\"\n",
    "result = longest_word(sentence)\n",
    "print(f\"{result[0]}: {result[1]} character\")"
   ]
  },
  {
   "cell_type": "markdown",
   "metadata": {},
   "source": [
    "3. Terdapat dua buah array yaitu array INPUT dan array QUERY, silahkan tentukan berapa kali kata dalam QUERY terdapat pada array INPUT"
   ]
  },
  {
   "cell_type": "code",
   "execution_count": 21,
   "metadata": {},
   "outputs": [
    {
     "name": "stdout",
     "output_type": "stream",
     "text": [
      "{'bbb': 1, 'ac': 0, 'dz': 2}\n"
     ]
    }
   ],
   "source": [
    "def count_words(INPUT, QUERY):\n",
    "    word_freq = {}\n",
    "    for word in INPUT:\n",
    "        word_freq[word] = word_freq.get(word, 0) + 1\n",
    "\n",
    "\n",
    "    word_counts = {}\n",
    "    for word in QUERY:\n",
    "        word_counts[word] = word_freq.get(word, 0)\n",
    "\n",
    "    return word_counts\n",
    "\n",
    "\n",
    "INPUT = ['xc', 'dz', 'bbb', 'dz']\n",
    "QUERY = ['bbb', 'ac', 'dz']\n",
    "result = count_words(INPUT, QUERY)\n",
    "print(result)"
   ]
  },
  {
   "cell_type": "markdown",
   "metadata": {},
   "source": [
    "4. Silahkan cari hasil dari pengurangan dari jumlah diagonal sebuah matrik NxN"
   ]
  },
  {
   "cell_type": "code",
   "execution_count": 22,
   "metadata": {},
   "outputs": [
    {
     "name": "stdout",
     "output_type": "stream",
     "text": [
      "3\n"
     ]
    }
   ],
   "source": [
    "def diagonal_difference(matrix):\n",
    "    n = len(matrix)\n",
    "    diagonal1 = sum(matrix[i][i] for i in range(n))\n",
    "    diagonal2 = sum(matrix[i][n - 1 - i] for i in range(n))\n",
    "    return abs(diagonal1 - diagonal2)\n",
    "\n",
    "\n",
    "Matrix = [[1, 2, 0], [4, 5, 6], [7, 8, 9]]\n",
    "result = diagonal_difference(Matrix)\n",
    "print(result)"
   ]
  }
 ],
 "metadata": {
  "kernelspec": {
   "display_name": "Python 3",
   "language": "python",
   "name": "python3"
  },
  "language_info": {
   "codemirror_mode": {
    "name": "ipython",
    "version": 3
   },
   "file_extension": ".py",
   "mimetype": "text/x-python",
   "name": "python",
   "nbconvert_exporter": "python",
   "pygments_lexer": "ipython3",
   "version": "3.10.6"
  }
 },
 "nbformat": 4,
 "nbformat_minor": 2
}
